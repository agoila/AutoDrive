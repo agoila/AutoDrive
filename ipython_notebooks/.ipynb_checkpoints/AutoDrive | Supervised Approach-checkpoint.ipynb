{
 "cells": [
  {
   "cell_type": "markdown",
   "metadata": {},
   "source": [
    "# AutoDriving: A Supervised Learning Approach.\n",
    "\n",
    "An autonomous car (driverless car, self-driving car, robotic car) is a vehicle that is capable of sensing its environment and navigating without human input. This is just a simple supervised learning approach for classification of action to be taken based on the properties of the inputs. However, combined with a reinforcement learning technique like Q-learning, the actions taken by the agent in the environment can be improved a lot. This ipython notebook is just presenting the the outline of the approach taken in the initial step: **A Supervised Approach to Action Selection**. Later this approach becomes the part of the reinforcement learning for an agent which enables it to take specific action in the present state."
   ]
  },
  {
   "cell_type": "markdown",
   "metadata": {},
   "source": [
    "### Inputs\n",
    "camera input\n",
    "sensor information"
   ]
  },
  {
   "cell_type": "code",
   "execution_count": 2,
   "metadata": {
    "collapsed": false
   },
   "outputs": [
    {
     "name": "stdout",
     "output_type": "stream",
     "text": [
      "(457, 840) (457, 1)\n"
     ]
    }
   ],
   "source": [
    "import numpy as np \n",
    "import pandas as pd\n",
    "#from sklearn.svm import SVC\n",
    "from sklearn.tree import DecisionTreeClassifier\n",
    "#from sklearn.linear_model import LogisticRegression\n",
    "X = pd.read_csv('../dataSet/features.csv')\n",
    "y = pd.read_csv('../dataSet/labels.csv')\n",
    "print X.shape, y.shape\n"
   ]
  },
  {
   "cell_type": "markdown",
   "metadata": {},
   "source": [
    "### Developing a Model\n",
    "\n",
    "#### Defining a Performance Metric"
   ]
  },
  {
   "cell_type": "code",
   "execution_count": 3,
   "metadata": {
    "collapsed": false
   },
   "outputs": [
    {
     "name": "stderr",
     "output_type": "stream",
     "text": [
      "/root/anaconda2/lib/python2.7/site-packages/sklearn/metrics/classification.py:1074: UndefinedMetricWarning: F-score is ill-defined and being set to 0.0 in labels with no predicted samples.\n",
      "  'precision', 'predicted', average, warn_for)\n"
     ]
    },
    {
     "data": {
      "text/plain": [
       "0.67623783480426414"
      ]
     },
     "execution_count": 3,
     "metadata": {},
     "output_type": "execute_result"
    }
   ],
   "source": [
    "from sklearn.metrics import f1_score\n",
    "\n",
    "def performance_metric(y_true, y_predict):\n",
    "    '''This function uses f1 score as the evaluation metric as 'accuracy' is not a very good\n",
    "    evaluation metric for biased datasets.'''\n",
    "    score = f1_score(y_true, y_predict,average='weighted')\n",
    "    return score\n",
    "testlabels = ['forward']*457\n",
    "performance_metric(y, testlabels)\n",
    "# Above shows that we have a very biased dataset"
   ]
  },
  {
   "cell_type": "markdown",
   "metadata": {},
   "source": [
    "### Test Train Split"
   ]
  },
  {
   "cell_type": "code",
   "execution_count": 4,
   "metadata": {
    "collapsed": false
   },
   "outputs": [
    {
     "name": "stdout",
     "output_type": "stream",
     "text": [
      "Training set has size (374, 1) and Test size has a size of (83, 1) examples\n"
     ]
    }
   ],
   "source": [
    "from sklearn.cross_validation import train_test_split\n",
    "\n",
    "X_train, X_test, y_train, y_test = train_test_split(X, y, test_size=0.18, random_state=14)\n",
    "\n",
    "print(\"Training set has size {} and Test size has a size of {} examples\".format(y_train.shape, y_test.shape))"
   ]
  },
  {
   "cell_type": "markdown",
   "metadata": {},
   "source": [
    "### Setup"
   ]
  },
  {
   "cell_type": "code",
   "execution_count": 5,
   "metadata": {
    "collapsed": false
   },
   "outputs": [
    {
     "name": "stdout",
     "output_type": "stream",
     "text": [
      "Trained Model\n",
      "['forward' 'right' 'forward' 'forward' 'left' 'forward' 'forward' 'forward'\n",
      " 'forward' 'forward' 'forward' 'forward' 'forward' 'forward' 'forward'\n",
      " 'forward' 'forward' 'forward' 'forward' 'forward' 'right' 'forward'\n",
      " 'forward' 'left' 'forward' 'forward' 'forward' 'forward' 'forward'\n",
      " 'forward' 'forward' 'forward' 'forward' 'forward' 'forward' 'forward'\n",
      " 'forward' 'forward' 'forward' 'forward' 'left' 'forward' 'forward'\n",
      " 'forward' 'forward' 'right' 'forward' 'forward' 'forward' 'left' 'forward'\n",
      " 'left' 'forward' 'forward' 'left' 'forward' 'forward' 'forward' 'forward'\n",
      " 'forward' 'forward' 'forward' 'forward' 'forward' 'forward' 'forward'\n",
      " 'forward' 'left' 'forward' 'forward' 'forward' 'forward' 'forward'\n",
      " 'forward' 'left' 'left' 'forward' 'forward' 'forward' 'forward' 'forward'\n",
      " 'forward' 'left']\n",
      "0.785635907474\n",
      "     forward\n",
      "309  forward\n",
      "20     right\n",
      "243     left\n",
      "332  forward\n",
      "183     left\n",
      "307    right\n",
      "106  forward\n",
      "442  forward\n",
      "136  forward\n",
      "130  forward\n",
      "72   forward\n",
      "321     left\n",
      "418  forward\n",
      "290  forward\n",
      "446  forward\n",
      "422  forward\n",
      "142     left\n",
      "189    right\n",
      "102  forward\n",
      "351  forward\n",
      "69   forward\n",
      "132  forward\n",
      "44   forward\n",
      "217    right\n",
      "244  forward\n",
      "198  forward\n",
      "60   forward\n",
      "438     left\n",
      "343  forward\n",
      "441  forward\n",
      "..       ...\n",
      "297  forward\n",
      "188     left\n",
      "292  forward\n",
      "140  forward\n",
      "58   forward\n",
      "49   forward\n",
      "342  forward\n",
      "383  forward\n",
      "396  forward\n",
      "114  forward\n",
      "437  forward\n",
      "415  forward\n",
      "172    right\n",
      "281  forward\n",
      "115     left\n",
      "348     left\n",
      "111  forward\n",
      "274  forward\n",
      "275  forward\n",
      "151  forward\n",
      "190  forward\n",
      "416  forward\n",
      "185  forward\n",
      "425  forward\n",
      "356  forward\n",
      "319    right\n",
      "315  forward\n",
      "373    right\n",
      "112  forward\n",
      "81      left\n",
      "\n",
      "[83 rows x 1 columns]\n"
     ]
    }
   ],
   "source": [
    "def train_classifier(clf, X_train, y_train):\n",
    "    clf.fit(X_train, y_train)\n",
    "    print \"Trained Model\"\n",
    "\n",
    "def predict_labels(clf, features, target):\n",
    "    y_pred = clf.predict(features)\n",
    "    print y_pred\n",
    "    return performance_metric(target, y_pred)\n",
    "\n",
    "#clf = SVC(gamma=.001,C=0.3,kernel='linear',random_state=21)\n",
    "clf = DecisionTreeClassifier(max_depth=3, random_state=35)\n",
    "\n",
    "train_classifier(clf, X_train,y_train)\n",
    "print predict_labels(clf, X_test, y_test)\n",
    "#print predict_labels(clf, X_train, y_train)\n",
    "print (y_test)"
   ]
  },
  {
   "cell_type": "code",
   "execution_count": null,
   "metadata": {
    "collapsed": true
   },
   "outputs": [],
   "source": []
  },
  {
   "cell_type": "code",
   "execution_count": null,
   "metadata": {
    "collapsed": true
   },
   "outputs": [],
   "source": []
  }
 ],
 "metadata": {
  "kernelspec": {
   "display_name": "Python 2",
   "language": "python",
   "name": "python2"
  },
  "language_info": {
   "codemirror_mode": {
    "name": "ipython",
    "version": 2
   },
   "file_extension": ".py",
   "mimetype": "text/x-python",
   "name": "python",
   "nbconvert_exporter": "python",
   "pygments_lexer": "ipython2",
   "version": "2.7.11"
  }
 },
 "nbformat": 4,
 "nbformat_minor": 0
}
