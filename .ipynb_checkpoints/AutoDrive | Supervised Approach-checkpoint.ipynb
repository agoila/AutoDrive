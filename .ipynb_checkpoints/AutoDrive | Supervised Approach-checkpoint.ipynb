{
 "cells": [
  {
   "cell_type": "markdown",
   "metadata": {},
   "source": [
    "# AutoDriving: A Supervised Learning Approach."
   ]
  },
  {
   "cell_type": "code",
   "execution_count": 29,
   "metadata": {
    "collapsed": false
   },
   "outputs": [
    {
     "name": "stdout",
     "output_type": "stream",
     "text": [
      "(457, 840) (457, 1)\n"
     ]
    }
   ],
   "source": [
    "import numpy as np \n",
    "import pandas as pd\n",
    "from sklearn.svm import SVC\n",
    "from sklearn.utils import column_or_1d\n",
    "X = pd.read_csv('features.csv')\n",
    "y = pd.read_csv('labels.csv')\n",
    "print X.shape, y.shape"
   ]
  },
  {
   "cell_type": "markdown",
   "metadata": {},
   "source": [
    "### Developing a Model\n",
    "\n",
    "#### Defining a Performance Metric"
   ]
  },
  {
   "cell_type": "code",
   "execution_count": 22,
   "metadata": {
    "collapsed": false
   },
   "outputs": [
    {
     "data": {
      "text/plain": [
       "0.67623783480426414"
      ]
     },
     "execution_count": 22,
     "metadata": {},
     "output_type": "execute_result"
    }
   ],
   "source": [
    "from sklearn.metrics import f1_score\n",
    "\n",
    "def performance_metric(y_true, y_predict):\n",
    "    '''This function uses f1 score as the evaluation metric as 'accuracy' is not a very good\n",
    "    evaluation metric for biased datasets.'''\n",
    "    score = f1_score(y_true, y_predict,average='weighted')\n",
    "    return score\n",
    "testlabels = ['forward']*457\n",
    "performance_metric(y, testlabels)\n",
    "# Above shows that we have a very biased dataset"
   ]
  },
  {
   "cell_type": "markdown",
   "metadata": {},
   "source": [
    "### Test Train Split"
   ]
  },
  {
   "cell_type": "code",
   "execution_count": 40,
   "metadata": {
    "collapsed": false
   },
   "outputs": [
    {
     "name": "stdout",
     "output_type": "stream",
     "text": [
      "Training set has size (374, 1) and Test size has a size of (83, 1) examples\n"
     ]
    }
   ],
   "source": [
    "from sklearn.cross_validation import train_test_split\n",
    "\n",
    "X_train, X_test, y_train, y_test = train_test_split(X, y, test_size=0.18, random_state=14)\n",
    "\n",
    "print(\"Training set has size {} and Test size has a size of {} examples\".format(y_train.shape, y_test.shape))"
   ]
  },
  {
   "cell_type": "markdown",
   "metadata": {},
   "source": [
    "### Setup"
   ]
  },
  {
   "cell_type": "code",
   "execution_count": 47,
   "metadata": {
    "collapsed": false
   },
   "outputs": [
    {
     "name": "stderr",
     "output_type": "stream",
     "text": [
      "/root/anaconda2/lib/python2.7/site-packages/sklearn/svm/base.py:514: DataConversionWarning: A column-vector y was passed when a 1d array was expected. Please change the shape of y to (n_samples, ), for example using ravel().\n",
      "  y_ = column_or_1d(y, warn=True)\n"
     ]
    },
    {
     "name": "stdout",
     "output_type": "stream",
     "text": [
      "Trained Model\n",
      "0.655058590526\n",
      "0.680961762696\n"
     ]
    }
   ],
   "source": [
    "def train_classifier(clf, X_train, y_train):\n",
    "    clf.fit(X_train, y_train)\n",
    "    print \"Trained Model\"\n",
    "\n",
    "def predict_labels(clf, features, target):\n",
    "    y_pred = clf.predict(features)\n",
    "    return performance_metric(target, y_pred)\n",
    "\n",
    "clf = SVC(C=0.3,kernel='rbf',random_state=21)\n",
    "train_classifier(clf, X_train, y_train)\n",
    "print predict_labels(clf, X_test, y_test)\n",
    "print predict_labels(clf, X_train, y_train)"
   ]
  },
  {
   "cell_type": "code",
   "execution_count": null,
   "metadata": {
    "collapsed": true
   },
   "outputs": [],
   "source": []
  }
 ],
 "metadata": {
  "kernelspec": {
   "display_name": "Python 2",
   "language": "python",
   "name": "python2"
  },
  "language_info": {
   "codemirror_mode": {
    "name": "ipython",
    "version": 2
   },
   "file_extension": ".py",
   "mimetype": "text/x-python",
   "name": "python",
   "nbconvert_exporter": "python",
   "pygments_lexer": "ipython2",
   "version": "2.7.11"
  }
 },
 "nbformat": 4,
 "nbformat_minor": 0
}
